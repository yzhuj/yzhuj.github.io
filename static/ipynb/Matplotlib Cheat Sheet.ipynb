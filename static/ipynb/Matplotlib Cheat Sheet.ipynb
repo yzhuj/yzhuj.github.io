{
 "cells": [
  {
   "cell_type": "code",
   "execution_count": 13,
   "id": "8d44fc7a",
   "metadata": {
    "ExecuteTime": {
     "end_time": "2023-01-10T01:36:16.886211Z",
     "start_time": "2023-01-10T01:36:16.877566Z"
    }
   },
   "outputs": [],
   "source": [
    "# Updated 2023/01/09\n",
    "import numpy as np\n",
    "import matplotlib.pyplot as plt"
   ]
  },
  {
   "cell_type": "markdown",
   "id": "b2341f25",
   "metadata": {},
   "source": [
    "**Simple Plot**"
   ]
  },
  {
   "cell_type": "code",
   "execution_count": 14,
   "id": "7939cdb2",
   "metadata": {
    "ExecuteTime": {
     "end_time": "2023-01-10T01:36:18.419924Z",
     "start_time": "2023-01-10T01:36:18.059265Z"
    }
   },
   "outputs": [
    {
     "data": {
      "image/png": "[encoded data removed]",
      "text/plain": [
       "<Figure size 432x288 with 1 Axes>"
      ]
     },
     "metadata": {
      "needs_background": "light"
     },
     "output_type": "display_data"
    }
   ],
   "source": [
    "fig, ax = plt.subplots()\n",
    "\n",
    "x = np.linspace(0,10)\n",
    "\n",
    "ax.plot(x, x**2, label='data')\n",
    "ax.plot(x, x**2+100, label='data shifted')\n",
    "\n",
    "ax.set_xlabel('x label')\n",
    "ax.set_ylabel('x label')\n",
    "ax.set_title('Simple plot')\n",
    "\n",
    "ax.legend()\n",
    "# ax.grid()\n",
    "\n",
    "plt.savefig('fig.png', bbox_inches='tight') # always save before show\n",
    "plt.show()"
   ]
  },
  {
   "cell_type": "markdown",
   "id": "e0c489fc",
   "metadata": {},
   "source": [
    "**Colors**"
   ]
  },
  {
   "cell_type": "code",
   "execution_count": null,
   "id": "c534f08b",
   "metadata": {},
   "outputs": [],
   "source": []
  },
  {
   "cell_type": "markdown",
   "id": "4fbca8fd",
   "metadata": {},
   "source": [
    "**Markers**"
   ]
  },
  {
   "cell_type": "code",
   "execution_count": null,
   "id": "99653cdd",
   "metadata": {},
   "outputs": [],
   "source": []
  },
  {
   "cell_type": "markdown",
   "id": "278e5aa3",
   "metadata": {},
   "source": [
    "**Subplots**"
   ]
  },
  {
   "cell_type": "code",
   "execution_count": null,
   "id": "cd3ff3c8",
   "metadata": {},
   "outputs": [],
   "source": []
  },
  {
   "cell_type": "markdown",
   "id": "8ef77b95",
   "metadata": {},
   "source": [
    "**Vertical and horizontal lines**"
   ]
  },
  {
   "cell_type": "code",
   "execution_count": null,
   "id": "72935524",
   "metadata": {},
   "outputs": [],
   "source": []
  },
  {
   "cell_type": "markdown",
   "id": "52d99ae0",
   "metadata": {},
   "source": [
    "**Slider**"
   ]
  },
  {
   "cell_type": "code",
   "execution_count": null,
   "id": "7671ae8b",
   "metadata": {},
   "outputs": [],
   "source": []
  }
 ],
 "metadata": {
  "kernelspec": {
   "display_name": "Python 3 (ipykernel)",
   "language": "python",
   "name": "python3"
  },
  "language_info": {
   "codemirror_mode": {
    "name": "ipython",
    "version": 3
   },
   "file_extension": ".py",
   "mimetype": "text/x-python",
   "name": "python",
   "nbconvert_exporter": "python",
   "pygments_lexer": "ipython3",
   "version": "3.9.12"
  },
  "toc": {
   "base_numbering": 1,
   "nav_menu": {},
   "number_sections": true,
   "sideBar": true,
   "skip_h1_title": false,
   "title_cell": "Table of Contents",
   "title_sidebar": "Contents",
   "toc_cell": false,
   "toc_position": {},
   "toc_section_display": true,
   "toc_window_display": false
  }
 },
 "nbformat": 4,
 "nbformat_minor": 5
}
